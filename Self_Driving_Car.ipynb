{
  "nbformat": 4,
  "nbformat_minor": 0,
  "metadata": {
    "colab": {
      "provenance": [],
      "include_colab_link": true
    },
    "kernelspec": {
      "name": "python3",
      "display_name": "Python 3"
    },
    "language_info": {
      "name": "python"
    },
    "accelerator": "GPU",
    "gpuClass": "standard"
  },
  "cells": [
    {
      "cell_type": "markdown",
      "metadata": {
        "id": "view-in-github",
        "colab_type": "text"
      },
      "source": [
        "<a href=\"https://colab.research.google.com/github/r-zeeshan/self-driving-car/blob/main/Self_Driving_Car.ipynb\" target=\"_parent\"><img src=\"https://colab.research.google.com/assets/colab-badge.svg\" alt=\"Open In Colab\"/></a>"
      ]
    },
    {
      "cell_type": "markdown",
      "source": [
        "# Clone the repository"
      ],
      "metadata": {
        "id": "IwWUJZahgnmX"
      }
    },
    {
      "cell_type": "code",
      "source": [
        "!git clone https://github.com/r-zeeshan/self-driving-car.git /content/sdc"
      ],
      "metadata": {
        "colab": {
          "base_uri": "https://localhost:8080/"
        },
        "id": "LxvmVna8g39M",
        "outputId": "e90dbac8-735a-45e0-96ad-5855b5554185"
      },
      "execution_count": 1,
      "outputs": [
        {
          "output_type": "stream",
          "name": "stdout",
          "text": [
            "Cloning into '/content/sdc'...\n",
            "remote: Enumerating objects: 35662, done.\u001b[K\n",
            "remote: Counting objects: 100% (50/50), done.\u001b[K\n",
            "remote: Compressing objects: 100% (38/38), done.\u001b[K\n",
            "remote: Total 35662 (delta 23), reused 27 (delta 9), pack-reused 35612\u001b[K\n",
            "Receiving objects: 100% (35662/35662), 461.00 MiB | 33.95 MiB/s, done.\n",
            "Resolving deltas: 100% (23/23), done.\n",
            "Updating files: 100% (35612/35612), done.\n"
          ]
        }
      ]
    },
    {
      "cell_type": "code",
      "source": [
        "## Command to pull latest changes in the repostory, to be deleted later...\n",
        "%cd /content/sdc\n",
        "!git pull"
      ],
      "metadata": {
        "colab": {
          "base_uri": "https://localhost:8080/"
        },
        "id": "ZnfpIslYhA12",
        "outputId": "7b033cc4-5401-4386-a8c3-cf3fe3e139d8"
      },
      "execution_count": 2,
      "outputs": [
        {
          "output_type": "stream",
          "name": "stdout",
          "text": [
            "/content/sdc\n",
            "Already up to date.\n"
          ]
        }
      ]
    },
    {
      "cell_type": "markdown",
      "source": [
        "# Step 1"
      ],
      "metadata": {
        "id": "qERdKJSnhLUX"
      }
    },
    {
      "cell_type": "code",
      "source": [
        "# Import helper functions from utility\n",
        "from sdc.utils import *"
      ],
      "metadata": {
        "id": "podPFAO8hUiC"
      },
      "execution_count": 3,
      "outputs": []
    },
    {
      "cell_type": "code",
      "source": [
        "path = \"/content/sdc/SimulationData/\"\n",
        "data = importDataInfo(path)"
      ],
      "metadata": {
        "colab": {
          "base_uri": "https://localhost:8080/"
        },
        "id": "G2MnuDe_hXBR",
        "outputId": "38c1f17e-b7a6-43e6-e1a9-0454d2f7af2f"
      },
      "execution_count": 4,
      "outputs": [
        {
          "output_type": "stream",
          "name": "stdout",
          "text": [
            "                               Center  \\\n",
            "0  center_2023_01_29_16_36_36_725.jpg   \n",
            "1  center_2023_01_29_16_36_36_798.jpg   \n",
            "2  center_2023_01_29_16_36_36_869.jpg   \n",
            "3  center_2023_01_29_16_36_36_956.jpg   \n",
            "4  center_2023_01_29_16_36_37_026.jpg   \n",
            "\n",
            "                                                Left  \\\n",
            "0  C:\\Users\\Zeeshan\\Desktop\\SimulationData\\IMG\\le...   \n",
            "1  C:\\Users\\Zeeshan\\Desktop\\SimulationData\\IMG\\le...   \n",
            "2  C:\\Users\\Zeeshan\\Desktop\\SimulationData\\IMG\\le...   \n",
            "3  C:\\Users\\Zeeshan\\Desktop\\SimulationData\\IMG\\le...   \n",
            "4  C:\\Users\\Zeeshan\\Desktop\\SimulationData\\IMG\\le...   \n",
            "\n",
            "                                               Right  Steering  Throttle  \\\n",
            "0  C:\\Users\\Zeeshan\\Desktop\\SimulationData\\IMG\\ri...       0.0       0.0   \n",
            "1  C:\\Users\\Zeeshan\\Desktop\\SimulationData\\IMG\\ri...       0.0       0.0   \n",
            "2  C:\\Users\\Zeeshan\\Desktop\\SimulationData\\IMG\\ri...       0.0       0.0   \n",
            "3  C:\\Users\\Zeeshan\\Desktop\\SimulationData\\IMG\\ri...       0.0       0.0   \n",
            "4  C:\\Users\\Zeeshan\\Desktop\\SimulationData\\IMG\\ri...       0.0       0.0   \n",
            "\n",
            "   Brake     Speed  \n",
            "0      0  1.545230  \n",
            "1      0  1.530193  \n",
            "2      0  1.518994  \n",
            "3      0  1.500479  \n",
            "4      0  1.489460  \n",
            "Total images Imported:  11869\n"
          ]
        }
      ]
    },
    {
      "cell_type": "markdown",
      "source": [
        "# Step 2"
      ],
      "metadata": {
        "id": "NwkGX_cNhhN5"
      }
    },
    {
      "cell_type": "code",
      "source": [
        "bData = balanceData(data)"
      ],
      "metadata": {
        "colab": {
          "base_uri": "https://localhost:8080/",
          "height": 548
        },
        "id": "1FvGuBEtjv1i",
        "outputId": "e2a52dae-b9df-49f3-ce51-95b9e1895494"
      },
      "execution_count": 5,
      "outputs": [
        {
          "output_type": "display_data",
          "data": {
            "text/plain": [
              "<Figure size 432x288 with 1 Axes>"
            ],
            "image/png": "[encoded data removed]"
          },
          "metadata": {
            "needs_background": "light"
          }
        },
        {
          "output_type": "stream",
          "name": "stdout",
          "text": [
            "Removed Images:  8492\n",
            "Remaining Images:  11869\n"
          ]
        },
        {
          "output_type": "display_data",
          "data": {
            "text/plain": [
              "<Figure size 432x288 with 1 Axes>"
            ],
            "image/png": "[encoded data removed]"
          },
          "metadata": {
            "needs_background": "light"
          }
        }
      ]
    },
    {
      "cell_type": "markdown",
      "source": [
        "## Step 3"
      ],
      "metadata": {
        "id": "mpFGxWls6ccs"
      }
    },
    {
      "cell_type": "code",
      "source": [
        "imagesPath, steerings = loadData(path, bData)"
      ],
      "metadata": {
        "id": "abP2wN5Jj0_r"
      },
      "execution_count": 6,
      "outputs": []
    },
    {
      "cell_type": "code",
      "source": [
        "print(imagesPath[0], steerings[0])"
      ],
      "metadata": {
        "colab": {
          "base_uri": "https://localhost:8080/"
        },
        "id": "IXUyiRfL4_W3",
        "outputId": "06064d9a-211b-4964-b6a6-13e26d6c440e"
      },
      "execution_count": 7,
      "outputs": [
        {
          "output_type": "stream",
          "name": "stdout",
          "text": [
            "/content/sdc/SimulationData/IMG/center_2023_01_29_16_36_36_725.jpg 0.0\n"
          ]
        }
      ]
    },
    {
      "cell_type": "markdown",
      "source": [
        "## Step 4"
      ],
      "metadata": {
        "id": "omrMtvKY6UnE"
      }
    },
    {
      "cell_type": "code",
      "source": [
        "from sklearn.model_selection import train_test_split\n",
        "# Split data into train and val sets\n",
        "X_train, X_val, y_train, y_val = train_test_split(imagesPath, steerings, test_size=0.2, random_state=5)\n",
        "len(X_train)"
      ],
      "metadata": {
        "colab": {
          "base_uri": "https://localhost:8080/"
        },
        "id": "iRRpaoVN6foh",
        "outputId": "540768f7-20ed-4503-ed6a-faf45f44b1eb"
      },
      "execution_count": 8,
      "outputs": [
        {
          "output_type": "execute_result",
          "data": {
            "text/plain": [
              "2701"
            ]
          },
          "metadata": {},
          "execution_count": 8
        }
      ]
    },
    {
      "cell_type": "code",
      "source": [
        "import tensorflow as tf"
      ],
      "metadata": {
        "id": "j5001ffjDKSr"
      },
      "execution_count": 9,
      "outputs": []
    },
    {
      "cell_type": "code",
      "source": [
        "def createModel():\n",
        "    model = tf.keras.Sequential([\n",
        "        tf.keras.layers.Conv2D(24, (5,5), (2,2), input_shape = (66, 200, 3), activation=\"elu\"),\n",
        "        tf.keras.layers.Conv2D(36, (5,5), (2,2), activation=\"elu\"),\n",
        "        tf.keras.layers.Conv2D(48, (5,5), (2,2), activation=\"elu\"),\n",
        "        tf.keras.layers.Conv2D(64, (3,3), activation=\"elu\"),\n",
        "        tf.keras.layers.Conv2D(64, (3,3), activation=\"elu\"),\n",
        "        tf.keras.layers.Flatten(),\n",
        "        tf.keras.layers.Dense(100, activation=\"elu\"),\n",
        "        tf.keras.layers.Dense(500, activation=\"elu\"),\n",
        "        tf.keras.layers.Dense(10, activation=\"elu\"),\n",
        "        tf.keras.layers.Dense(1)\n",
        "    ])\n",
        "\n",
        "    model.compile(optimizer=tf.keras.optimizers.Adam(lr=0.0001), loss=\"mae\")\n",
        "\n",
        "    return model"
      ],
      "metadata": {
        "id": "H5lu0uvIDbQA"
      },
      "execution_count": 10,
      "outputs": []
    },
    {
      "cell_type": "code",
      "source": [
        "model = createModel()\n",
        "model.summary()"
      ],
      "metadata": {
        "colab": {
          "base_uri": "https://localhost:8080/"
        },
        "id": "3M6sBBiPFhql",
        "outputId": "c891fb09-2337-4a71-e2c9-756938b50154"
      },
      "execution_count": 11,
      "outputs": [
        {
          "output_type": "stream",
          "name": "stdout",
          "text": [
            "Model: \"sequential\"\n",
            "_________________________________________________________________\n",
            " Layer (type)                Output Shape              Param #   \n",
            "=================================================================\n",
            " conv2d (Conv2D)             (None, 31, 98, 24)        1824      \n",
            "                                                                 \n",
            " conv2d_1 (Conv2D)           (None, 14, 47, 36)        21636     \n",
            "                                                                 \n",
            " conv2d_2 (Conv2D)           (None, 5, 22, 48)         43248     \n",
            "                                                                 \n",
            " conv2d_3 (Conv2D)           (None, 3, 20, 64)         27712     \n",
            "                                                                 \n",
            " conv2d_4 (Conv2D)           (None, 1, 18, 64)         36928     \n",
            "                                                                 \n",
            " flatten (Flatten)           (None, 1152)              0         \n",
            "                                                                 \n",
            " dense (Dense)               (None, 100)               115300    \n",
            "                                                                 \n",
            " dense_1 (Dense)             (None, 500)               50500     \n",
            "                                                                 \n",
            " dense_2 (Dense)             (None, 10)                5010      \n",
            "                                                                 \n",
            " dense_3 (Dense)             (None, 1)                 11        \n",
            "                                                                 \n",
            "=================================================================\n",
            "Total params: 302,169\n",
            "Trainable params: 302,169\n",
            "Non-trainable params: 0\n",
            "_________________________________________________________________\n"
          ]
        },
        {
          "output_type": "stream",
          "name": "stderr",
          "text": [
            "/usr/local/lib/python3.8/dist-packages/keras/optimizers/optimizer_v2/adam.py:110: UserWarning: The `lr` argument is deprecated, use `learning_rate` instead.\n",
            "  super(Adam, self).__init__(name, **kwargs)\n"
          ]
        }
      ]
    },
    {
      "cell_type": "markdown",
      "source": [
        "## Step 9"
      ],
      "metadata": {
        "id": "gKHLDXsAFofz"
      }
    },
    {
      "cell_type": "code",
      "source": [
        "history = model.fit(batchGenerator(X_train, y_train, 100, True),\n",
        "          steps_per_epoch=300,\n",
        "          epochs=10,\n",
        "          validation_data=(batchGenerator(X_val, y_val, 100, False)),\n",
        "          validation_steps=200)"
      ],
      "metadata": {
        "colab": {
          "base_uri": "https://localhost:8080/"
        },
        "id": "Ff5Z4oDIGtNq",
        "outputId": "28043302-739c-4edb-edea-2bfd52d6f508"
      },
      "execution_count": 12,
      "outputs": [
        {
          "output_type": "stream",
          "name": "stdout",
          "text": [
            "Epoch 1/10\n",
            "300/300 [==============================] - 129s 406ms/step - loss: 0.1953 - val_loss: 0.1673\n",
            "Epoch 2/10\n",
            "300/300 [==============================] - 121s 405ms/step - loss: 0.1841 - val_loss: 0.1661\n",
            "Epoch 3/10\n",
            "300/300 [==============================] - 122s 408ms/step - loss: 0.1784 - val_loss: 0.1644\n",
            "Epoch 4/10\n",
            "300/300 [==============================] - 121s 406ms/step - loss: 0.1727 - val_loss: 0.1603\n",
            "Epoch 5/10\n",
            "300/300 [==============================] - 122s 408ms/step - loss: 0.1671 - val_loss: 0.1616\n",
            "Epoch 6/10\n",
            "300/300 [==============================] - 121s 405ms/step - loss: 0.1660 - val_loss: 0.1582\n",
            "Epoch 7/10\n",
            "300/300 [==============================] - 121s 406ms/step - loss: 0.1647 - val_loss: 0.1562\n",
            "Epoch 8/10\n",
            "300/300 [==============================] - 121s 405ms/step - loss: 0.1634 - val_loss: 0.1664\n",
            "Epoch 9/10\n",
            "300/300 [==============================] - 120s 403ms/step - loss: 0.1618 - val_loss: 0.1588\n",
            "Epoch 10/10\n",
            "300/300 [==============================] - 121s 404ms/step - loss: 0.1590 - val_loss: 0.1628\n"
          ]
        }
      ]
    },
    {
      "cell_type": "markdown",
      "source": [
        "## Step 10"
      ],
      "metadata": {
        "id": "Kl4zzpBvHTAP"
      }
    },
    {
      "cell_type": "code",
      "source": [
        "model.save(\"model.h5\")\n",
        "print(\"Model Saved\")"
      ],
      "metadata": {
        "colab": {
          "base_uri": "https://localhost:8080/"
        },
        "id": "rU10RZz_I2cn",
        "outputId": "ce23f57b-8eee-4748-f147-a4e7ac9b50d5"
      },
      "execution_count": 13,
      "outputs": [
        {
          "output_type": "stream",
          "name": "stdout",
          "text": [
            "Model Saved\n"
          ]
        }
      ]
    },
    {
      "cell_type": "code",
      "source": [
        "plt.plot(history.history[\"loss\"])\n",
        "plt.plot(history.history[\"val_loss\"])\n",
        "plt.legend([\"Training\", \"Validation\"])\n",
        "plt.ylim([0,1])\n",
        "plt.title(\"Loss\")\n",
        "plt.xlabel(\"Epoch\")\n",
        "plt.show()"
      ],
      "metadata": {
        "colab": {
          "base_uri": "https://localhost:8080/",
          "height": 295
        },
        "id": "qimK_-zXI-Ss",
        "outputId": "3ca7c3d8-98ca-473f-aecd-72303fb38462"
      },
      "execution_count": 14,
      "outputs": [
        {
          "output_type": "display_data",
          "data": {
            "text/plain": [
              "<Figure size 432x288 with 1 Axes>"
            ],
            "image/png": "[encoded data removed]"
          },
          "metadata": {
            "needs_background": "light"
          }
        }
      ]
    },
    {
      "cell_type": "code",
      "source": [
        "from google.colab import files\n",
        "files.download('/content/sdc/model.h5')"
      ],
      "metadata": {
        "id": "EMuuKK0aJZQZ",
        "outputId": "026c9b54-a15e-4b4b-ddb2-0b2390abf716",
        "colab": {
          "base_uri": "https://localhost:8080/",
          "height": 17
        }
      },
      "execution_count": 15,
      "outputs": [
        {
          "output_type": "display_data",
          "data": {
            "text/plain": [
              "<IPython.core.display.Javascript object>"
            ],
            "application/javascript": [
              "\n",
              "    async function download(id, filename, size) {\n",
              "      if (!google.colab.kernel.accessAllowed) {\n",
              "        return;\n",
              "      }\n",
              "      const div = document.createElement('div');\n",
              "      const label = document.createElement('label');\n",
              "      label.textContent = `Downloading \"${filename}\": `;\n",
              "      div.appendChild(label);\n",
              "      const progress = document.createElement('progress');\n",
              "      progress.max = size;\n",
              "      div.appendChild(progress);\n",
              "      document.body.appendChild(div);\n",
              "\n",
              "      const buffers = [];\n",
              "      let downloaded = 0;\n",
              "\n",
              "      const channel = await google.colab.kernel.comms.open(id);\n",
              "      // Send a message to notify the kernel that we're ready.\n",
              "      channel.send({})\n",
              "\n",
              "      for await (const message of channel.messages) {\n",
              "        // Send a message to notify the kernel that we're ready.\n",
              "        channel.send({})\n",
              "        if (message.buffers) {\n",
              "          for (const buffer of message.buffers) {\n",
              "            buffers.push(buffer);\n",
              "            downloaded += buffer.byteLength;\n",
              "            progress.value = downloaded;\n",
              "          }\n",
              "        }\n",
              "      }\n",
              "      const blob = new Blob(buffers, {type: 'application/binary'});\n",
              "      const a = document.createElement('a');\n",
              "      a.href = window.URL.createObjectURL(blob);\n",
              "      a.download = filename;\n",
              "      div.appendChild(a);\n",
              "      a.click();\n",
              "      div.remove();\n",
              "    }\n",
              "  "
            ]
          },
          "metadata": {}
        },
        {
          "output_type": "display_data",
          "data": {
            "text/plain": [
              "<IPython.core.display.Javascript object>"
            ],
            "application/javascript": [
              "download(\"download_8da9422c-f0f7-4372-90cc-021ce04379f6\", \"model.h5\", 3706056)"
            ]
          },
          "metadata": {}
        }
      ]
    },
    {
      "cell_type": "code",
      "source": [],
      "metadata": {
        "id": "NBRT8kb-lW9o"
      },
      "execution_count": null,
      "outputs": []
    }
  ]
}